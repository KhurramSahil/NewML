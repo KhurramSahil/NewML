{
 "cells": [
  {
   "cell_type": "markdown",
   "id": "1e13b4cb",
   "metadata": {},
   "source": [
    "# Dice Game"
   ]
  },
  {
   "cell_type": "raw",
   "id": "0fe77e50",
   "metadata": {},
   "source": [
    "Suppose you have a dice and a coin. \n",
    "Now write a program for a game. \n",
    "The game is played twice between 4 players. \n",
    "The third game is the final which is played between the winner of game 1 and game 2.\n",
    "The game starts when players roll a dice and toss a coin. - \n",
    "If the dice returns an odd number, the score of the user is same as the number returned - \n",
    "If the dice returns an even number, the score of the user is twice the number returned. \n",
    "After the dice is rolled, the players then toss the coin. \n",
    "If the Coin returns Head, then the score is thrice the previous score of the user. \n",
    "If the Coin returns Tails, then the score is 1 less than the previous score of the user. \n",
    "Game1 is played between player 1 and player \n",
    "2. Game 2 is played between player 3 and 4. \n",
    "The final game is played between the winner of game 1 and game 2. \n",
    "Return a winner amongst four players"
   ]
  },
  {
   "cell_type": "code",
   "execution_count": null,
   "id": "9580ce39",
   "metadata": {},
   "outputs": [],
   "source": []
  },
  {
   "cell_type": "code",
   "execution_count": 1,
   "id": "d4853f07",
   "metadata": {},
   "outputs": [],
   "source": [
    "#importing random module\n",
    "import random\n",
    "\n",
    "# Defining Class for Players\n",
    "class Players:\n",
    "    \n",
    "    def __init__(self, name):\n",
    "        self.name = name\n",
    "        self.score = score\n",
    "\n",
    "# Rolling dice between 1 to 6 randomly        \n",
    "    def roll_dice(self):\n",
    "        d1 = random.randint(1,6)\n",
    "    \n",
    "# The game starts when players roll a dice and toss a coin.   \n",
    "    def toss(self):\n",
    "        return random.choice(['Heads', 'Tails'])\n",
    "    \n",
    "    def play_game(self):\n",
    "        dice_roll = self.roll_dice()\n",
    "        \n",
    "# If the dice returns an even number, the score of the user is twice the number returned.\n",
    "        if dice_roll % 2 == 0:\n",
    "            self.score += 2 * dice_roll\n",
    "            \n",
    "# If the dice returns an odd number, the score of the user is same as the number returned\n",
    "        else:\n",
    "            self.score += dice_roll\n",
    "            toss = self.toss()\n",
    "        \n",
    "# If the Coin returns Head, then the score is thrice the previous score of the user   \n",
    "        if toss == 'Heads':\n",
    "            self.score *= 3\n",
    "            \n",
    "# If the Coin returns Tails, then the score is 1 less than the previous score of the user.\n",
    "        else:\n",
    "            self.score -= 1\n",
    "            \n",
    "            \n",
    "# Playing first game\n",
    "p1.play()\n",
    "p2.play()"
   ]
  },
  {
   "cell_type": "code",
   "execution_count": null,
   "id": "92988b35",
   "metadata": {},
   "outputs": [],
   "source": []
  }
 ],
 "metadata": {
  "kernelspec": {
   "display_name": "Python 3 (ipykernel)",
   "language": "python",
   "name": "python3"
  },
  "language_info": {
   "codemirror_mode": {
    "name": "ipython",
    "version": 3
   },
   "file_extension": ".py",
   "mimetype": "text/x-python",
   "name": "python",
   "nbconvert_exporter": "python",
   "pygments_lexer": "ipython3",
   "version": "3.10.6"
  }
 },
 "nbformat": 4,
 "nbformat_minor": 5
}
