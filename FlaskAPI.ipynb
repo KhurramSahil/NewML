{
 "cells": [
  {
   "cell_type": "code",
   "execution_count": 1,
   "id": "1f944009",
   "metadata": {
    "scrolled": true
   },
   "outputs": [],
   "source": [
    "\n",
    "from flask import Flask\n",
    "\n",
    "app = Flask(__name__)\n",
    "\n",
    "@app.route('/')\n",
    "\n",
    "def hello():\n",
    "    return  \"Hello world\"\n",
    "\n",
    "\n",
    "if __name__ == '__main__':\n",
    "    app.run(host='0.0.0.0', port=5000)"
   ]
  },
  {
   "cell_type": "code",
   "execution_count": null,
   "id": "10e09d4c",
   "metadata": {},
   "outputs": [
    {
     "name": "stdout",
     "output_type": "stream",
     "text": [
      " * Serving Flask app '__main__'\n",
      " * Debug mode: off\n"
     ]
    },
    {
     "name": "stderr",
     "output_type": "stream",
     "text": [
      "\u001b[31m\u001b[1mWARNING: This is a development server. Do not use it in a production deployment. Use a production WSGI server instead.\u001b[0m\n",
      " * Running on all addresses (0.0.0.0)\n",
      " * Running on http://127.0.0.1:5000\n",
      " * Running on http://172.31.33.123:5000\n",
      "\u001b[33mPress CTRL+C to quit\u001b[0m\n",
      "127.0.0.1 - - [16/Feb/2023 15:09:54] \"\u001b[33mGET / HTTP/1.1\u001b[0m\" 404 -\n"
     ]
    }
   ],
   "source": [
    "# ToDo - Flask Task\n",
    "# Flask API to send a number and get its square. Use the following code and add yours in it.\n",
    "# Server Side\n",
    "\n",
    "import traceback\n",
    "from flask import Flask\n",
    "from flask import request\n",
    "\n",
    "\n",
    "def do_process(n):\n",
    "    return n*n\n",
    "\n",
    "app = Flask(__name__)\n",
    "@app.route('/test', methods=['GET', 'POST'])\n",
    "def test():\n",
    "    try:\n",
    "        n = request.form[\"n\"]\n",
    "        # your code here\n",
    "    except Exception as e:\n",
    "        return str(tracback.format_exc())\n",
    "\n",
    "\n",
    "app.run(host='0.0.0.0', port=5000)\n",
    "# Client Side\n",
    "import requests\n",
    "\n",
    "api_url = \"/\"\n",
    "data = {\n",
    "    \"n\": 5\n",
    "}\n",
    "\n",
    "response = requests.post(api_url, data=data)\n",
    "\n",
    "# print(response)\n",
    "print(response.text)"
   ]
  },
  {
   "cell_type": "code",
   "execution_count": null,
   "id": "c32a2a81",
   "metadata": {},
   "outputs": [],
   "source": [
    "import traceback\n",
    "from flask import Flask\n",
    "from flask import request\n",
    "import hashlib\n",
    "\n",
    "def do_process(n):\n",
    "    return n\n",
    "app = Flask(_name_)\n",
    "@app.route('/test', methods=['GET', 'POST'])\n",
    "def test():\n",
    "    try:\n",
    "        bb = int(request.form[\"bb\"])\n",
    "        def sol(x):\n",
    "            r = []\n",
    "            while x > 0:\n",
    "                square = int(x ** 0.5) ** 2\n",
    "                r.append(square)\n",
    "                x -= square\n",
    "            return r\n",
    "        \n",
    "        z =  sol(bb)\n",
    "            \n",
    "        return str(z)\n",
    "\n",
    "    except Exception as e:\n",
    "        return str(tracback.format_exc())\n",
    "app.run(host='0.0.0.0', port=8009"
   ]
  }
 ],
 "metadata": {
  "kernelspec": {
   "display_name": "Python 3 (ipykernel)",
   "language": "python",
   "name": "python3"
  },
  "language_info": {
   "codemirror_mode": {
    "name": "ipython",
    "version": 3
   },
   "file_extension": ".py",
   "mimetype": "text/x-python",
   "name": "python",
   "nbconvert_exporter": "python",
   "pygments_lexer": "ipython3",
   "version": "3.10.6"
  }
 },
 "nbformat": 4,
 "nbformat_minor": 5
}
